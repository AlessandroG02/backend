{
 "cells": [
  {
   "cell_type": "markdown",
   "metadata": {},
   "source": [
    "## Paradigmi di sviluppo web per le *view*"
   ]
  },
  {
   "cell_type": "markdown",
   "metadata": {},
   "source": [
    "Attualmente i principali paradigmi per lo sviluppo di *view* (viste) per siti ed applicazioni web, si basano sui seguenti approcci o una mescolanza di essi (*hybrid rendering*).\n",
    "\n",
    "1. **Static Site Generation (SSG)**: Generazione statica del sito. Si tratta di file HTML precostruiti al momento della creazione, il che significa che il tempo di caricamento della pagina è ridotto al minimo poiché il server invia una pagina HTML completa al client. Questo metodo è generalmente utilizzato per i siti in cui il contenuto non cambia spesso ed è lo stesso per ogni utente. SSG è altamente performante e SEO-friendly.\n",
    "\n",
    "2. **Client-Side Rendering (CSR)**: rendering lato client. Significa che il rendering del sito web avviene nel browser dell'utente. Sebbene il CSR possa offrire un'esperienza utente ricca e interattiva, può essere meno ottimale per la SEO e il caricamento iniziale potrebbe essere più lento. La RSI è comunemente utilizzata per le applicazioni web in cui l'interazione dell'utente è elevata e il contenuto è dinamico e cambia in base alle azioni dell'utente.\n",
    "\n",
    "    - **Fetch API - formerly Asynchronous JavaScript and XML (AJAX)**: Con un'interfaccia API lato server (RESTful) si può usare JavaScript per inviare una richiesta asincrona al server, che poi esegue il calcolo e restituisce il risultato. Questo in passato è stato spesso associato con il termine AJAX ma, dato che oggi non è più necessario utilizzare XML per i dati scambiati, si preferisce il termine più generico \"Fetch API\". L'approccio standard si basa quindi su un server conforme all'architettura REST.\n",
    "\n",
    "4. **Server-Side Rendering (SSR)**: rendering lato server. Con l'SSR, il server genera dinamicamente le pagine HTML per ogni richiesta. Questo approccio è vantaggioso per la SEO e quando i contenuti devono essere aggiornati frequentemente. È particolarmente utile quando il sito web ha meno contenuti dinamici o quando non è richiesta la personalizzazione dell'utente. L'SSR può talvolta essere più lento dell'SSG a causa della necessità di generare pagine al volo.\n"
   ]
  },
  {
   "cell_type": "markdown",
   "metadata": {},
   "source": [
    "![HTTP_requests.png](imgs/HTTP_requests.png)\n"
   ]
  }
 ],
 "metadata": {
  "language_info": {
   "name": "python"
  }
 },
 "nbformat": 4,
 "nbformat_minor": 2
}
