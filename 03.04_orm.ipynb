{
 "cells": [
  {
   "cell_type": "markdown",
   "metadata": {},
   "source": [
    "## Che cos'è un ORM?\n",
    "\n",
    "In generale, un [ORM (Object-Relational Mapping)](https://it.wikipedia.org/wiki/Object-relational_mapping) è uno strumento che permette di interagire con un database relazionale come se fosse un insieme di oggetti in un linguaggio di programmazione orientato agli oggetti, come Python.\n",
    "\n",
    "In pratica un ORM astrae le specificità del [DBMS](https://it.wikipedia.org/wiki/Database_management_system) sottostante (es. SQLite, MySQL, PostgreSQL ecc.) e ci mette a disposizione una comoda interfaccia ad oggetti per poter interagire con esso.\n",
    "\n",
    "Invece di comunicare con il DBMS scrivendo direttamente comandi SQL per manipolare i dati nel database, con un ORM si lavora con classi, istanze e attributi di oggetti Python che rappresentano rispettivamente tabelle, righe e colonne del database.\n",
    "\n",
    "| **ORM (Python)**      | **Database relazionale** |\n",
    "|-----------------------|--------------------------|\n",
    "| CLASSI                | TABELLE                  |\n",
    "| ISTANZE (oggetti)     | RECORD (righe)           |\n",
    "| ATTRIBUTI             | COLONNE (campi)          |\n",
    "\n",
    "\n",
    "Per esempio, per eseguire una query SQL come `SELECT * FROM users WHERE cap=10100;`, se usassimo direttamente il modulo `sqlite3` di Python, dovremmo scrivere una cosa come questa:\n",
    "\n",
    "```python\n",
    "conn = sqlite3.connect('database.db')\n",
    "cursor = conn.cursor()\n",
    "cursor.execute('SELECT * FROM users WHERE cap=10100;')\n",
    "records = cursor.fetchall()\n",
    "conn.close()\n",
    "```\n",
    "\n",
    "Con SQLAlchemy poremmo ottenere lo stesso risultato in questo modo:\n",
    "\n",
    "```python\n",
    "records = User.query.filter_by(cap=10100).all()\n",
    "```\n",
    "\n",
    "Una sola riga anziché cinque!"
   ]
  },
  {
   "cell_type": "markdown",
   "metadata": {},
   "source": [
    "### ORM con Python\n",
    "\n",
    "In Python le due librerie ORM più famose sono:\n",
    "\n",
    "- [SQLAlchemy](https://www.sqlalchemy.org/)\n",
    "- [Django ORM](https://docs.djangoproject.com/en/5.0/topics/db/models/)\n",
    "- [Tortoise ORM](https://tortoise-orm.readthedocs.io/en/latest/)\n",
    "- [Peewee](https://docs.peewee-orm.com/en/latest/)\n",
    "- [Pony ORM](https://docs.ponyorm.org/)"
   ]
  },
  {
   "cell_type": "markdown",
   "metadata": {},
   "source": [
    "### Vantaggi degli ORM\n",
    "\n",
    "- Semplifica la scrittura del codice poiché gli sviluppatori possono sfruttare le caratteristiche del linguaggio di programmazione per gestire i dati.\n",
    "\n",
    "- Riduce notevolmente la possibilità di compiere errori, poiché un ORM implementa tutta una serie di controlli automatici sull'integrità dei dati e delle operazioni, ai quali altrimenti dovremmo pensarci noi.\n",
    "\n",
    "- Astrae le specificità del DBMS sottostante. Questo significa che, se si decide di cambiare il tipo database (ad esempio passando da SQLite a PostgreSQL), non è necessario riscrivere tutto il codice SQL per adattarlo al nuovo dialetto o alle differenze specifiche del nuovo DBMS. L'ORM gestisce queste differenze automaticamente, consentendo agli sviluppatori di continuare a usare lo stesso codice Python per interagire con il database. Questo rende il codice più portabile e flessibile.\n"
   ]
  },
  {
   "cell_type": "markdown",
   "metadata": {},
   "source": [
    "## App `flask_login` con SQLite \"vanilla\" e con SQLALchemy ORM\n",
    "\n",
    "Abbiamo confrontato l'app `flask_login` implementata con SQLite direttamente e poi con l'ORM di SQLALchemy.\n",
    "\n",
    "- [apps/INF_PR_PY_WB_E07_login_db](apps/INF_PR_PY_WB_E07_login_db)\n",
    "\n",
    "- [apps/INF_PR_PY_WB_E08_login_orm](apps/INF_PR_PY_WB_E08_login_orm)\n"
   ]
  },
  {
   "cell_type": "markdown",
   "metadata": {},
   "source": [
    "## Flask-SQLAlchemy e \"Legacy Query API\"\n",
    "\n",
    "Ricorda che per le operazioni di lettura (READ), [Flask-SQLAlchemy](https://flask-sqlalchemy.palletsprojects.com/en/3.1.x/) consente l'utilizzo delle cosiddette \"Legacy Query API\" di SQLAlchemy che si contrappongono alle nuove API.\n",
    "\n",
    "Noi useremo quelle \"vecchie\", ma tieni presente che quando cerchi sul web o chiedi all'AI, potresti trovare codice che usa le nuove API.\n",
    "\n",
    "Per approfondire:\n",
    "\n",
    "**LEGACY** (&larr; noi usiamo queste!):\n",
    "- Docs: [Legacy Query API](https://docs.sqlalchemy.org/en/20/orm/queryguide/query.html)\n",
    "- Notebook: [03.05_sqlalchemy_READ_legacy.ipynb](03.05_sqlalchemy_READ_legacy.ipynb)\n",
    "\n",
    "**NEW**:\n",
    "- Docs: [Nuove API (2.0)](https://docs.sqlalchemy.org/en/20/orm/queryguide/index.html)\n",
    "- Notebook: [03.06_sqlalchemy_READ_new.ipynb](03.06_sqlalchemy_READ_new.ipynb)"
   ]
  }
 ],
 "metadata": {
  "language_info": {
   "name": "python"
  }
 },
 "nbformat": 4,
 "nbformat_minor": 2
}
