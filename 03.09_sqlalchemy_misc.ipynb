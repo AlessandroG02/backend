{
 "cells": [
  {
   "cell_type": "markdown",
   "metadata": {},
   "source": [
    "## SQLAlchemy-serializer (record &rarr; dict &rarr; JSON)\n",
    "\n",
    "Pacchetto di terze parti per trasformare i record di SQLAlchemy in dizionari, seguendo anche le relazioni create tra le tabelle.\n",
    "\n",
    "Il dizionario ottenuto può essere poi facilmente serializzato in JSON e inviato al client.\n",
    "\n",
    "Documentazione ufficiale diSQLAlchemy-serializer:\n",
    "\n",
    "https://github.com/n0nSmoker/SQLAlchemy-serializer"
   ]
  },
  {
   "cell_type": "markdown",
   "metadata": {},
   "source": [
    "## Composite unique constraint\n",
    "\n",
    "Vincolo di unicità composito.\n",
    "\n",
    "Se vogliamo evitare che in una tabella possano esistere più record con due o più campi uguali, dobbiamo definire un vincolo `UniqueConstraint`.\n",
    "\n",
    "```python\n",
    "class Prenotazione(db.Model):\n",
    "    __tablename__ = 'prenotazioni'\n",
    "    id = db.Column(db.Integer(), primary_key=True, autoincrement=True)\n",
    "    user_id = db.Column(db.Integer(), db.ForeignKey('users.id'), nullable=False)\n",
    "    lotto_id = db.Column(db.Integer(), db.ForeignKey('lotti.id'), nullable=False)\n",
    "    qta = db.Column(db.Integer, nullable=False)\n",
    "\n",
    "    __table_args__ = (\n",
    "        db.UniqueConstraint('user_id', 'lotto_id', name='user_id_lotto_id_uniq'),\n",
    "    )\n",
    "```\n",
    "\n",
    "Per essere sicuri che non siano consentiti siano due record con il medesimo utente e lotto, basta aggiungere all'interno della classe del modello:\n",
    "\n",
    "```python\n",
    "    __table_args__ = (\n",
    "        db.UniqueConstraint('user_id', 'lotto_id', name='user_id_lotto_id_uniq'),\n",
    "    )\n",
    "```"
   ]
  }
 ],
 "metadata": {
  "language_info": {
   "name": "python"
  }
 },
 "nbformat": 4,
 "nbformat_minor": 2
}
