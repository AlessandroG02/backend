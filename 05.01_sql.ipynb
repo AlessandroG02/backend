{
 "cells": [
  {
   "cell_type": "markdown",
   "metadata": {},
   "source": [
    "## Fare pratica con SQL\n",
    "\n",
    "Ecco alcuni *playground* con esercizi graduati per fare pratica:\n",
    "\n",
    "- https://sqlbolt.com/\n",
    "\n",
    "- https://programiz.pro/course/sql-basics (richiede registrazione gratutita)\n",
    "\n",
    "- https://www.w3schools.com/sql/exercise.asp\n",
    "\n",
    "- https://sqlzoo.net/wiki/SQL_Tutorial\n",
    "\n",
    "\n",
    "Solo *playground* con base dati demo:\n",
    "\n",
    "- https://www.w3schools.com/sql/trysql.asp?filename=trysql_asc\n",
    "\n",
    "- https://sqliteonline.com/\n"
   ]
  }
 ],
 "metadata": {
  "language_info": {
   "name": "python"
  }
 },
 "nbformat": 4,
 "nbformat_minor": 2
}
