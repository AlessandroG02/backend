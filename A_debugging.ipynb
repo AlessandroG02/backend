{
 "cells": [
  {
   "cell_type": "markdown",
   "metadata": {},
   "source": [
    "## Capire dove sta l'errore tra Flask e il browser\n",
    "\n",
    "Ogni volta che qualcosa non sembra funzionare come dovrebbe, dobbiamo cercare degli indizi che ci permettano di capire che cosa è che non funziona.\n",
    "\n",
    "Per fare questo, per prima cosa andiamo a controllare nei soliti posti:\n",
    "\n",
    "- **TERMINALE** di VS Code: Qua possiamo individuare eventuali errori del back-end, ovvero del server.\n",
    "    - Log specicico di Flask (es. richieste ricevute dal client).\n",
    "    - Output standard di Python (es. errori o `print()`).\n",
    "\n",
    "- **STRUMENTI PER GLI SVILUPPATORI** del browser: Qua possiamo individuare eventuali errori del front-end, ovvero del client.\n",
    "\n",
    "    - **ELEMENTS / ANALISI PAGINA**: Qua vediamo HTML e CSS.\n",
    "        - Struttura dell'**HTML**: Dato che lavoriamo con i template Jinja che compongono parti delle pagine in modo dinamico, lo strumento di analisi dell'HTML ci può servire per controllare che la pagina sia strutturata come ci si aspetta.\n",
    "\n",
    "        - Regole **CSS**: Cliccando un elemento della pagina, ci vengono mostrate le regole CSS che vengono applicate ad esso direttamente o tramite le sue classi.\n",
    "\n",
    "    - **CONSOLE**: Qua vediamo gli errori del front-end, ovvero del client. In particolare ci vengono mostrati gli errori JavaScript e quelli che riguardano il funzionamento del browser. Inoltre possiamo ispezionare gli oggetti JavaScript presenti nel DOM.\n",
    "\n",
    "    - **NETWORK / RETE**: Qua vediamo tutte le richieste inviate al server con le relative risposte.\n",
    "\n",
    "        - **HEADERS**: Ci mostra le intestazioni della richiesta e della risposta.\n",
    "\n",
    "        - **RICHIESTA / PAYLOAD**: ci mostra il corpo (*body*) del messaggio inviato al server.\n",
    "\n",
    "        - **RESPONSE / RISPOSTA**: Ci mostra il corpo (*body*) della risposta ricevuta dal server."
   ]
  }
 ],
 "metadata": {
  "language_info": {
   "name": "python"
  }
 },
 "nbformat": 4,
 "nbformat_minor": 2
}
