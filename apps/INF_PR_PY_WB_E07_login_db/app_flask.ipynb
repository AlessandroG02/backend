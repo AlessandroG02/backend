{
 "cells": [
  {
   "cell_type": "markdown",
   "metadata": {},
   "source": [
    "## Esercitazione INF_PR_PY_WB_E07 - Autenticazione con base dati\n",
    "\n",
    "[Scarica il testo dell'esercitazione da Moodle](https://elearning.scuolacamerana.it/moodle/mod/assign/view.php?id=11295).\n",
    "\n",
    "Per procedere in modo più spedito, inizio a fornirvi già anche una versione dell'applicazione che fa uso del database, in modo che abbiate una base di partenza durante le ore di SQL:\n",
    "\n",
    "- `flask_login_4_db-vanilla/` è l'applicazione con l'uso del database, usando SQL direttamente con il motore [SQLite](https://sqlite.org/).\n"
   ]
  }
 ],
 "metadata": {
  "language_info": {
   "name": "python"
  }
 },
 "nbformat": 4,
 "nbformat_minor": 2
}
